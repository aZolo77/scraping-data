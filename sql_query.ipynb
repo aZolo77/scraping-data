{
 "cells": [
  {
   "cell_type": "code",
   "execution_count": 1,
   "id": "5264948a",
   "metadata": {},
   "outputs": [],
   "source": [
    "import json\n",
    "import sqlite3\n",
    "import pandas as pd"
   ]
  },
  {
   "cell_type": "markdown",
   "id": "d174d008",
   "metadata": {},
   "source": [
    "### Преобразование данных"
   ]
  },
  {
   "cell_type": "code",
   "execution_count": 2,
   "id": "6d824cd1",
   "metadata": {},
   "outputs": [],
   "source": [
    "with open('./quotes.json', 'r') as f:\n",
    "    data = json.load(f)"
   ]
  },
  {
   "cell_type": "code",
   "execution_count": 3,
   "id": "83586fe4",
   "metadata": {},
   "outputs": [
    {
     "data": {
      "text/html": [
       "<div>\n",
       "<style scoped>\n",
       "    .dataframe tbody tr th:only-of-type {\n",
       "        vertical-align: middle;\n",
       "    }\n",
       "\n",
       "    .dataframe tbody tr th {\n",
       "        vertical-align: top;\n",
       "    }\n",
       "\n",
       "    .dataframe thead th {\n",
       "        text-align: right;\n",
       "    }\n",
       "</style>\n",
       "<table border=\"1\" class=\"dataframe\">\n",
       "  <thead>\n",
       "    <tr style=\"text-align: right;\">\n",
       "      <th></th>\n",
       "      <th>author</th>\n",
       "      <th>text</th>\n",
       "      <th>tags</th>\n",
       "    </tr>\n",
       "  </thead>\n",
       "  <tbody>\n",
       "    <tr>\n",
       "      <th>0</th>\n",
       "      <td>Albert Einstein</td>\n",
       "      <td>“The world as we have created it is a process ...</td>\n",
       "      <td>[change, deep-thoughts, thinking, world]</td>\n",
       "    </tr>\n",
       "    <tr>\n",
       "      <th>1</th>\n",
       "      <td>J.K. Rowling</td>\n",
       "      <td>“It is our choices, Harry, that show what we t...</td>\n",
       "      <td>[abilities, choices]</td>\n",
       "    </tr>\n",
       "    <tr>\n",
       "      <th>2</th>\n",
       "      <td>Albert Einstein</td>\n",
       "      <td>“There are only two ways to live your life. On...</td>\n",
       "      <td>[inspirational, life, live, miracle, miracles]</td>\n",
       "    </tr>\n",
       "    <tr>\n",
       "      <th>3</th>\n",
       "      <td>Jane Austen</td>\n",
       "      <td>“The person, be it gentleman or lady, who has ...</td>\n",
       "      <td>[aliteracy, books, classic, humor]</td>\n",
       "    </tr>\n",
       "    <tr>\n",
       "      <th>4</th>\n",
       "      <td>Marilyn Monroe</td>\n",
       "      <td>“Imperfection is beauty, madness is genius and...</td>\n",
       "      <td>[be-yourself, inspirational]</td>\n",
       "    </tr>\n",
       "  </tbody>\n",
       "</table>\n",
       "</div>"
      ],
      "text/plain": [
       "            author                                               text  \\\n",
       "0  Albert Einstein  “The world as we have created it is a process ...   \n",
       "1     J.K. Rowling  “It is our choices, Harry, that show what we t...   \n",
       "2  Albert Einstein  “There are only two ways to live your life. On...   \n",
       "3      Jane Austen  “The person, be it gentleman or lady, who has ...   \n",
       "4   Marilyn Monroe  “Imperfection is beauty, madness is genius and...   \n",
       "\n",
       "                                             tags  \n",
       "0        [change, deep-thoughts, thinking, world]  \n",
       "1                            [abilities, choices]  \n",
       "2  [inspirational, life, live, miracle, miracles]  \n",
       "3              [aliteracy, books, classic, humor]  \n",
       "4                    [be-yourself, inspirational]  "
      ]
     },
     "execution_count": 3,
     "metadata": {},
     "output_type": "execute_result"
    }
   ],
   "source": [
    "df_data = pd.DataFrame(data)\n",
    "df_data.head(5)"
   ]
  },
  {
   "cell_type": "code",
   "execution_count": 4,
   "id": "9b1ce2cb",
   "metadata": {},
   "outputs": [
    {
     "data": {
      "text/plain": [
       "{'Albert Einstein',\n",
       " 'Bob Marley',\n",
       " 'C.S. Lewis',\n",
       " 'Charles Bukowski',\n",
       " 'Dr. Seuss',\n",
       " 'Eleanor Roosevelt',\n",
       " 'Ernest Hemingway',\n",
       " 'George R.R. Martin',\n",
       " 'J.K. Rowling',\n",
       " 'Jane Austen',\n",
       " 'Marilyn Monroe',\n",
       " 'Mark Twain',\n",
       " 'Mother Teresa',\n",
       " 'Ralph Waldo Emerson',\n",
       " 'Suzanne Collins'}"
      ]
     },
     "execution_count": 4,
     "metadata": {},
     "output_type": "execute_result"
    }
   ],
   "source": [
    "# авторы, которые встречаются более 1 раза\n",
    "set(df_data.loc[df_data['author'].duplicated(keep=False), 'author'])"
   ]
  },
  {
   "cell_type": "markdown",
   "id": "6e7b2673",
   "metadata": {},
   "source": [
    "> `Цитаты`"
   ]
  },
  {
   "cell_type": "code",
   "execution_count": 5,
   "id": "285f1633",
   "metadata": {},
   "outputs": [
    {
     "data": {
      "text/plain": [
       "100"
      ]
     },
     "execution_count": 5,
     "metadata": {},
     "output_type": "execute_result"
    }
   ],
   "source": [
    "quotes_lst = [q['text'] for q in data]\n",
    "len(quotes_lst)"
   ]
  },
  {
   "cell_type": "code",
   "execution_count": 6,
   "id": "e4999cc5",
   "metadata": {},
   "outputs": [],
   "source": [
    "tpl_quotes = []\n",
    "for i, q in enumerate(quotes_lst):\n",
    "    tpl_quotes.append((i, q))"
   ]
  },
  {
   "cell_type": "markdown",
   "id": "0bdbcb3a",
   "metadata": {},
   "source": [
    "> `Авторы`"
   ]
  },
  {
   "cell_type": "code",
   "execution_count": 7,
   "id": "86f3ccd6",
   "metadata": {},
   "outputs": [
    {
     "data": {
      "text/plain": [
       "50"
      ]
     },
     "execution_count": 7,
     "metadata": {},
     "output_type": "execute_result"
    }
   ],
   "source": [
    "authors_set = set([q['author'] for q in data])\n",
    "len(authors_set)"
   ]
  },
  {
   "cell_type": "code",
   "execution_count": 8,
   "id": "0233d1fd",
   "metadata": {},
   "outputs": [],
   "source": [
    "tpl_authors = []\n",
    "for i, q in enumerate(authors_set):\n",
    "    tpl_authors.append((i, q))"
   ]
  },
  {
   "cell_type": "markdown",
   "id": "33e98450",
   "metadata": {},
   "source": [
    "> `Тэги`"
   ]
  },
  {
   "cell_type": "code",
   "execution_count": 9,
   "id": "0866e416",
   "metadata": {},
   "outputs": [
    {
     "data": {
      "text/plain": [
       "137"
      ]
     },
     "execution_count": 9,
     "metadata": {},
     "output_type": "execute_result"
    }
   ],
   "source": [
    "# тэги\n",
    "tags_set = set([t_lst for sublist in [q['tags'] for q in data] for t_lst in sublist])\n",
    "len(tags_set)"
   ]
  },
  {
   "cell_type": "code",
   "execution_count": 10,
   "id": "328cc12d",
   "metadata": {},
   "outputs": [],
   "source": [
    "tpl_tags = []\n",
    "for i, q in enumerate(tags_set):\n",
    "    tpl_tags.append((i, q))"
   ]
  },
  {
   "cell_type": "markdown",
   "id": "0367deb0",
   "metadata": {},
   "source": [
    "> объединение `quotes и authors` по id"
   ]
  },
  {
   "cell_type": "code",
   "execution_count": 11,
   "id": "da6c88e7",
   "metadata": {},
   "outputs": [],
   "source": [
    "tpl_quotes_authors = []\n",
    "for i, author in enumerate(authors_set):\n",
    "    for j in df_data.loc[df_data['author'] == author, 'text'].index:\n",
    "        tpl_quotes_authors.append((j, i))"
   ]
  },
  {
   "cell_type": "markdown",
   "id": "ec50a5c9",
   "metadata": {},
   "source": [
    "> объединение `quotes и tags` по id"
   ]
  },
  {
   "cell_type": "code",
   "execution_count": 12,
   "id": "5bd10ccd",
   "metadata": {},
   "outputs": [
    {
     "name": "stdout",
     "output_type": "stream",
     "text": [
      "232\n"
     ]
    }
   ],
   "source": [
    "tpl_quotes_tags = []\n",
    "tags_series = df_data['tags']\n",
    "\n",
    "for i, t in enumerate(tags_set):\n",
    "    mask = tags_series.str.contains(t, regex=False)\n",
    "    \n",
    "    for j in df_data.loc[mask, ['text', 'tags']].index:\n",
    "        tpl_quotes_tags.append((j, i))\n",
    "        \n",
    "print(len(tpl_quotes_tags))"
   ]
  },
  {
   "cell_type": "markdown",
   "id": "76068234",
   "metadata": {},
   "source": [
    "### Создание базы данных"
   ]
  },
  {
   "cell_type": "code",
   "execution_count": 13,
   "id": "bcac624b",
   "metadata": {},
   "outputs": [],
   "source": [
    "def execute_query(q, crs, conn, type='simple query', tpl=None):\n",
    "    if type == 'insert':\n",
    "        crs.execute(q, tpl)  \n",
    "    elif type == 'insert many':\n",
    "        crs.executemany(q, tpl)\n",
    "    elif type == 'script':\n",
    "        crs.executescript(q)  \n",
    "    else:\n",
    "        crs.execute(q)\n",
    "    conn.commit()"
   ]
  },
  {
   "cell_type": "markdown",
   "id": "113649fd",
   "metadata": {},
   "source": [
    "#### Структура базы"
   ]
  },
  {
   "cell_type": "code",
   "execution_count": 14,
   "id": "eb35a847",
   "metadata": {},
   "outputs": [],
   "source": [
    "conn = sqlite3.connect('quotes.db')\n",
    "cursor = conn.cursor()"
   ]
  },
  {
   "cell_type": "markdown",
   "id": "7cd24c85",
   "metadata": {},
   "source": [
    "> создание таблиц"
   ]
  },
  {
   "cell_type": "code",
   "execution_count": 15,
   "id": "4b824d5c",
   "metadata": {},
   "outputs": [],
   "source": [
    "create_tables_query = '''\n",
    "    CREATE TABLE IF NOT EXISTS quotes (\n",
    "        id SERIAL PRIMARY KEY,\n",
    "        text TEXT(255) NOT NULL UNIQUE\n",
    "    );\n",
    "    \n",
    "    CREATE TABLE IF NOT EXISTS authors (\n",
    "        id SERIAL PRIMARY KEY,\n",
    "        name TEXT(100) NOT NULL UNIQUE\n",
    "    );\n",
    "    \n",
    "    CREATE TABLE IF NOT EXISTS tags (\n",
    "        id SERIAL PRIMARY KEY,\n",
    "        tag TEXT(50) NOT NULL UNIQUE\n",
    "    );\n",
    "    \n",
    "    -- Таблицы связи\n",
    "    CREATE TABLE IF NOT EXISTS quotes_authors (\n",
    "        quote_id INT UNSIGNED NOT NULL,\n",
    "        author_id INT UNSIGNED NOT NULL,\n",
    "        FOREIGN KEY (quote_id) REFERENCES quotes (id),\n",
    "        FOREIGN KEY (author_id) REFERENCES authors (id)\n",
    "    );\n",
    "    \n",
    "    CREATE TABLE IF NOT EXISTS quotes_tags (\n",
    "        quote_id INT UNSIGNED NOT NULL,\n",
    "        tag_id INT UNSIGNED NOT NULL,\n",
    "        FOREIGN KEY (quote_id) REFERENCES quotes (id),\n",
    "        FOREIGN KEY (tag_id) REFERENCES tags (id)\n",
    "    );    \n",
    "'''"
   ]
  },
  {
   "cell_type": "code",
   "execution_count": 16,
   "id": "3194109c",
   "metadata": {},
   "outputs": [],
   "source": [
    "execute_query(create_tables_query, cursor, conn, 'script')"
   ]
  },
  {
   "cell_type": "markdown",
   "id": "dcf699f9",
   "metadata": {},
   "source": [
    "#### Загрузка данных в базу"
   ]
  },
  {
   "cell_type": "code",
   "execution_count": 19,
   "id": "70f58783",
   "metadata": {},
   "outputs": [],
   "source": [
    "insert_quotes = '''\n",
    "    INSERT INTO quotes(id, text)\n",
    "    VALUES(?, ?)\n",
    "'''"
   ]
  },
  {
   "cell_type": "code",
   "execution_count": 20,
   "id": "0d2364de",
   "metadata": {},
   "outputs": [],
   "source": [
    "execute_query(insert_quotes, cursor, conn, 'insert many', tpl_quotes)"
   ]
  },
  {
   "cell_type": "code",
   "execution_count": 21,
   "id": "7f38c99e",
   "metadata": {},
   "outputs": [],
   "source": [
    "insert_authors = '''\n",
    "    INSERT INTO authors(id, name)\n",
    "    VALUES(?, ?)\n",
    "'''"
   ]
  },
  {
   "cell_type": "code",
   "execution_count": 22,
   "id": "c430e7e8",
   "metadata": {},
   "outputs": [],
   "source": [
    "execute_query(insert_authors, cursor, conn, 'insert many', tpl_authors)"
   ]
  },
  {
   "cell_type": "code",
   "execution_count": 23,
   "id": "70d28ea5",
   "metadata": {},
   "outputs": [],
   "source": [
    "insert_tags = '''\n",
    "    INSERT INTO tags(id, tag)\n",
    "    VALUES(?, ?)\n",
    "'''"
   ]
  },
  {
   "cell_type": "code",
   "execution_count": 24,
   "id": "0580d9ef",
   "metadata": {},
   "outputs": [],
   "source": [
    "execute_query(insert_tags, cursor, conn, 'insert many', tpl_tags)"
   ]
  },
  {
   "cell_type": "code",
   "execution_count": 25,
   "id": "b02ee125",
   "metadata": {},
   "outputs": [],
   "source": [
    "insert_quotes_authors = '''\n",
    "    INSERT INTO quotes_authors(quote_id, author_id)\n",
    "    VALUES(?, ?)\n",
    "'''"
   ]
  },
  {
   "cell_type": "code",
   "execution_count": 26,
   "id": "2dc9eff0",
   "metadata": {},
   "outputs": [],
   "source": [
    "execute_query(insert_quotes_authors, cursor, conn, 'insert many', tpl_quotes_authors)"
   ]
  },
  {
   "cell_type": "code",
   "execution_count": 27,
   "id": "fc0e53bc",
   "metadata": {},
   "outputs": [],
   "source": [
    "insert_quotes_tags = '''\n",
    "    INSERT INTO quotes_tags(quote_id, tag_id)\n",
    "    VALUES(?, ?)\n",
    "'''"
   ]
  },
  {
   "cell_type": "code",
   "execution_count": 28,
   "id": "2ea7d28a",
   "metadata": {},
   "outputs": [],
   "source": [
    "execute_query(insert_quotes_tags, cursor, conn, 'insert many', tpl_quotes_tags)"
   ]
  },
  {
   "cell_type": "markdown",
   "id": "99196ba2",
   "metadata": {},
   "source": [
    "### Возможные запросы к базе"
   ]
  },
  {
   "cell_type": "code",
   "execution_count": 29,
   "id": "f664ee7b",
   "metadata": {},
   "outputs": [],
   "source": [
    "aa_quotes = '''\n",
    "    SELECT q.text, a.name \n",
    "    FROM quotes q\n",
    "        LEFT JOIN quotes_authors qa\n",
    "            ON q.id = qa.quote_id\n",
    "        LEFT JOIN authors a\n",
    "            ON a.id = qa.author_id\n",
    "        WHERE a.name = 'Albert Einstein'\n",
    "'''"
   ]
  },
  {
   "cell_type": "code",
   "execution_count": 30,
   "id": "31f717d9",
   "metadata": {},
   "outputs": [
    {
     "data": {
      "text/plain": [
       "[('“The world as we have created it is a process of our thinking. It cannot be changed without changing our thinking.”',\n",
       "  'Albert Einstein'),\n",
       " ('“There are only two ways to live your life. One is as though nothing is a miracle. The other is as though everything is a miracle.”',\n",
       "  'Albert Einstein'),\n",
       " ('“Try not to become a man of success. Rather become a man of value.”',\n",
       "  'Albert Einstein'),\n",
       " (\"“If you can't explain it to a six year old, you don't understand it yourself.”\",\n",
       "  'Albert Einstein'),\n",
       " ('“If you want your children to be intelligent, read them fairy tales. If you want them to be more intelligent, read them more fairy tales.”',\n",
       "  'Albert Einstein'),\n",
       " ('“Logic will get you from A to Z; imagination will get you everywhere.”',\n",
       "  'Albert Einstein'),\n",
       " ('“Any fool can know. The point is to understand.”', 'Albert Einstein'),\n",
       " ('“Life is like riding a bicycle. To keep your balance, you must keep moving.”',\n",
       "  'Albert Einstein'),\n",
       " ('“If I were not a physicist, I would probably be a musician. I often think in music. I live my daydreams in music. I see my life in terms of music.”',\n",
       "  'Albert Einstein'),\n",
       " ('“Anyone who has never made a mistake has never tried anything new.”',\n",
       "  'Albert Einstein')]"
      ]
     },
     "execution_count": 30,
     "metadata": {},
     "output_type": "execute_result"
    }
   ],
   "source": [
    "Albert_Einstein_q = list(cursor.execute(aa_quotes))\n",
    "Albert_Einstein_q"
   ]
  },
  {
   "cell_type": "code",
   "execution_count": 31,
   "id": "0a7ffe6c",
   "metadata": {},
   "outputs": [],
   "source": [
    "tag_quotes_q = '''\n",
    "    SELECT q.text, t.tag \n",
    "    FROM quotes q\n",
    "        LEFT JOIN quotes_tags qt\n",
    "            ON q.id = qt.quote_id\n",
    "        LEFT JOIN tags t\n",
    "            ON t.id = qt.tag_id\n",
    "        WHERE t.tag IN ('humor', 'books') LIMIT 5\n",
    "'''"
   ]
  },
  {
   "cell_type": "code",
   "execution_count": 32,
   "id": "2935e04e",
   "metadata": {},
   "outputs": [
    {
     "data": {
      "text/plain": [
       "[('“The person, be it gentleman or lady, who has not pleasure in a good novel, must be intolerably stupid.”',\n",
       "  'humor'),\n",
       " ('“The person, be it gentleman or lady, who has not pleasure in a good novel, must be intolerably stupid.”',\n",
       "  'books'),\n",
       " ('“A day without sunshine is like, you know, night.”', 'humor'),\n",
       " ('“Good friends, good books, and a sleepy conscience: this is the ideal life.”',\n",
       "  'books'),\n",
       " ('“Anyone who thinks sitting in church can make you a Christian must also think that sitting in a garage can make you a car.”',\n",
       "  'humor')]"
      ]
     },
     "execution_count": 32,
     "metadata": {},
     "output_type": "execute_result"
    }
   ],
   "source": [
    "tags_output = list(cursor.execute(tag_quotes_q))\n",
    "tags_output"
   ]
  },
  {
   "cell_type": "markdown",
   "id": "9c9f6d8c",
   "metadata": {},
   "source": [
    "### Удаление таблиц из базы"
   ]
  },
  {
   "cell_type": "markdown",
   "id": "03d7b4fc",
   "metadata": {},
   "source": [
    "> `удаление` таблиц"
   ]
  },
  {
   "cell_type": "code",
   "execution_count": 33,
   "id": "1a21e0da",
   "metadata": {},
   "outputs": [],
   "source": [
    "# drop_tables_query = '''\n",
    "#     DROP TABLE quotes;\n",
    "#     DROP TABLE authors;\n",
    "#     DROP TABLE tags;\n",
    "#     DROP TABLE quotes_authors;\n",
    "#     DROP TABLE quotes_tags;\n",
    "# '''"
   ]
  },
  {
   "cell_type": "code",
   "execution_count": 34,
   "id": "91770428",
   "metadata": {},
   "outputs": [],
   "source": [
    "# execute_query(drop_tables_query, cursor, conn, 'script')"
   ]
  },
  {
   "cell_type": "markdown",
   "id": "5eb3db5e",
   "metadata": {},
   "source": [
    "> `список` таблиц"
   ]
  },
  {
   "cell_type": "code",
   "execution_count": 37,
   "id": "3574e23b",
   "metadata": {},
   "outputs": [],
   "source": [
    "show_tables_query = '''\n",
    "    SELECT * FROM sqlite_master\n",
    "    WHERE type = 'table'\n",
    "'''"
   ]
  },
  {
   "cell_type": "code",
   "execution_count": 39,
   "id": "a7801c82",
   "metadata": {},
   "outputs": [],
   "source": [
    "tables = list(cursor.execute(show_tables_query))\n",
    "# tables"
   ]
  }
 ],
 "metadata": {
  "kernelspec": {
   "display_name": "Python 3 (ipykernel)",
   "language": "python",
   "name": "python3"
  },
  "language_info": {
   "codemirror_mode": {
    "name": "ipython",
    "version": 3
   },
   "file_extension": ".py",
   "mimetype": "text/x-python",
   "name": "python",
   "nbconvert_exporter": "python",
   "pygments_lexer": "ipython3",
   "version": "3.8.12"
  },
  "toc": {
   "base_numbering": 1,
   "nav_menu": {},
   "number_sections": true,
   "sideBar": true,
   "skip_h1_title": false,
   "title_cell": "Table of Contents",
   "title_sidebar": "Contents",
   "toc_cell": false,
   "toc_position": {},
   "toc_section_display": true,
   "toc_window_display": false
  }
 },
 "nbformat": 4,
 "nbformat_minor": 5
}
